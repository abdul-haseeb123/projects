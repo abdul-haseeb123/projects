{
 "cells": [
  {
   "cell_type": "markdown",
   "metadata": {
    "dc": {
     "key": "3"
    },
    "deletable": false,
    "editable": false,
    "run_control": {
     "frozen": true
    },
    "tags": [
     "context"
    ]
   },
   "source": [
    "## 1. The dataset\n",
    "<p>Walt Disney Studios is the foundation on which The Walt Disney Company was built. The Studios has produced more than 600 films since their debut film,  Snow White and the Seven Dwarfs in 1937. While many of its films were big hits, some of them were not. In this notebook, we will explore a dataset of Disney movies and analyze what contributes to the success of Disney movies.</p>\n",
    "<p><img src=\"https://assets.datacamp.com/production/project_740/img/jorge-martinez-instagram-jmartinezz9-431078-unsplash_edited.jpg\" alt></p>\n",
    "<p>First, we will take a look at the Disney data compiled by <a href=\"https://data.world/kgarrett/disney-character-success-00-16\">Kelly Garrett</a>. The data contains 579 Disney movies with six features: movie title, release date, genre, MPAA rating, total gross, and inflation-adjusted gross. </p>\n",
    "<p>Let's load the file and see what the data looks like.</p>"
   ]
  },
  {
   "cell_type": "code",
   "execution_count": 1,
   "metadata": {
    "dc": {
     "key": "3"
    },
    "tags": [
     "sample_code"
    ]
   },
   "outputs": [
    {
     "data": {
      "text/html": [
       "<div>\n",
       "<style scoped>\n",
       "    .dataframe tbody tr th:only-of-type {\n",
       "        vertical-align: middle;\n",
       "    }\n",
       "\n",
       "    .dataframe tbody tr th {\n",
       "        vertical-align: top;\n",
       "    }\n",
       "\n",
       "    .dataframe thead th {\n",
       "        text-align: right;\n",
       "    }\n",
       "</style>\n",
       "<table border=\"1\" class=\"dataframe\">\n",
       "  <thead>\n",
       "    <tr style=\"text-align: right;\">\n",
       "      <th></th>\n",
       "      <th>movie_title</th>\n",
       "      <th>release_date</th>\n",
       "      <th>genre</th>\n",
       "      <th>mpaa_rating</th>\n",
       "      <th>total_gross</th>\n",
       "      <th>inflation_adjusted_gross</th>\n",
       "    </tr>\n",
       "  </thead>\n",
       "  <tbody>\n",
       "    <tr>\n",
       "      <th>0</th>\n",
       "      <td>Snow White and the Seven Dwarfs</td>\n",
       "      <td>1937-12-21</td>\n",
       "      <td>Musical</td>\n",
       "      <td>G</td>\n",
       "      <td>184925485</td>\n",
       "      <td>5228953251</td>\n",
       "    </tr>\n",
       "    <tr>\n",
       "      <th>1</th>\n",
       "      <td>Pinocchio</td>\n",
       "      <td>1940-02-09</td>\n",
       "      <td>Adventure</td>\n",
       "      <td>G</td>\n",
       "      <td>84300000</td>\n",
       "      <td>2188229052</td>\n",
       "    </tr>\n",
       "    <tr>\n",
       "      <th>2</th>\n",
       "      <td>Fantasia</td>\n",
       "      <td>1940-11-13</td>\n",
       "      <td>Musical</td>\n",
       "      <td>G</td>\n",
       "      <td>83320000</td>\n",
       "      <td>2187090808</td>\n",
       "    </tr>\n",
       "    <tr>\n",
       "      <th>3</th>\n",
       "      <td>Song of the South</td>\n",
       "      <td>1946-11-12</td>\n",
       "      <td>Adventure</td>\n",
       "      <td>G</td>\n",
       "      <td>65000000</td>\n",
       "      <td>1078510579</td>\n",
       "    </tr>\n",
       "    <tr>\n",
       "      <th>4</th>\n",
       "      <td>Cinderella</td>\n",
       "      <td>1950-02-15</td>\n",
       "      <td>Drama</td>\n",
       "      <td>G</td>\n",
       "      <td>85000000</td>\n",
       "      <td>920608730</td>\n",
       "    </tr>\n",
       "    <tr>\n",
       "      <th>...</th>\n",
       "      <td>...</td>\n",
       "      <td>...</td>\n",
       "      <td>...</td>\n",
       "      <td>...</td>\n",
       "      <td>...</td>\n",
       "      <td>...</td>\n",
       "    </tr>\n",
       "    <tr>\n",
       "      <th>574</th>\n",
       "      <td>The Light Between Oceans</td>\n",
       "      <td>2016-09-02</td>\n",
       "      <td>Drama</td>\n",
       "      <td>PG-13</td>\n",
       "      <td>12545979</td>\n",
       "      <td>12545979</td>\n",
       "    </tr>\n",
       "    <tr>\n",
       "      <th>575</th>\n",
       "      <td>Queen of Katwe</td>\n",
       "      <td>2016-09-23</td>\n",
       "      <td>Drama</td>\n",
       "      <td>PG</td>\n",
       "      <td>8874389</td>\n",
       "      <td>8874389</td>\n",
       "    </tr>\n",
       "    <tr>\n",
       "      <th>576</th>\n",
       "      <td>Doctor Strange</td>\n",
       "      <td>2016-11-04</td>\n",
       "      <td>Adventure</td>\n",
       "      <td>PG-13</td>\n",
       "      <td>232532923</td>\n",
       "      <td>232532923</td>\n",
       "    </tr>\n",
       "    <tr>\n",
       "      <th>577</th>\n",
       "      <td>Moana</td>\n",
       "      <td>2016-11-23</td>\n",
       "      <td>Adventure</td>\n",
       "      <td>PG</td>\n",
       "      <td>246082029</td>\n",
       "      <td>246082029</td>\n",
       "    </tr>\n",
       "    <tr>\n",
       "      <th>578</th>\n",
       "      <td>Rogue One: A Star Wars Story</td>\n",
       "      <td>2016-12-16</td>\n",
       "      <td>Adventure</td>\n",
       "      <td>PG-13</td>\n",
       "      <td>529483936</td>\n",
       "      <td>529483936</td>\n",
       "    </tr>\n",
       "  </tbody>\n",
       "</table>\n",
       "<p>579 rows × 6 columns</p>\n",
       "</div>"
      ],
      "text/plain": [
       "                         movie_title release_date      genre mpaa_rating  \\\n",
       "0    Snow White and the Seven Dwarfs   1937-12-21    Musical           G   \n",
       "1                          Pinocchio   1940-02-09  Adventure           G   \n",
       "2                           Fantasia   1940-11-13    Musical           G   \n",
       "3                  Song of the South   1946-11-12  Adventure           G   \n",
       "4                         Cinderella   1950-02-15      Drama           G   \n",
       "..                               ...          ...        ...         ...   \n",
       "574         The Light Between Oceans   2016-09-02      Drama       PG-13   \n",
       "575                   Queen of Katwe   2016-09-23      Drama          PG   \n",
       "576                   Doctor Strange   2016-11-04  Adventure       PG-13   \n",
       "577                            Moana   2016-11-23  Adventure          PG   \n",
       "578     Rogue One: A Star Wars Story   2016-12-16  Adventure       PG-13   \n",
       "\n",
       "     total_gross  inflation_adjusted_gross  \n",
       "0      184925485                5228953251  \n",
       "1       84300000                2188229052  \n",
       "2       83320000                2187090808  \n",
       "3       65000000                1078510579  \n",
       "4       85000000                 920608730  \n",
       "..           ...                       ...  \n",
       "574     12545979                  12545979  \n",
       "575      8874389                   8874389  \n",
       "576    232532923                 232532923  \n",
       "577    246082029                 246082029  \n",
       "578    529483936                 529483936  \n",
       "\n",
       "[579 rows x 6 columns]"
      ]
     },
     "execution_count": 1,
     "metadata": {},
     "output_type": "execute_result"
    }
   ],
   "source": [
    "import pandas as pd\n",
    "\n",
    "gross = pd.read_csv(\"datasets/disney_movies_total_gross.csv\", parse_dates=[\"release_date\"])\n",
    "\n",
    "gross"
   ]
  },
  {
   "cell_type": "markdown",
   "metadata": {
    "dc": {
     "key": "12"
    },
    "deletable": false,
    "editable": false,
    "run_control": {
     "frozen": true
    },
    "tags": [
     "context"
    ]
   },
   "source": [
    "## 2. Top ten movies at the box office\n",
    "<p>Let's started by exploring the data. We will check which are the 10 Disney movies that have earned the most at the box office. We can do this by sorting movies by their inflation-adjusted gross (we will call it adjusted gross from this point onward). </p>"
   ]
  },
  {
   "cell_type": "code",
   "execution_count": 2,
   "metadata": {
    "dc": {
     "key": "12"
    },
    "tags": [
     "sample_code"
    ]
   },
   "outputs": [
    {
     "data": {
      "text/html": [
       "<div>\n",
       "<style scoped>\n",
       "    .dataframe tbody tr th:only-of-type {\n",
       "        vertical-align: middle;\n",
       "    }\n",
       "\n",
       "    .dataframe tbody tr th {\n",
       "        vertical-align: top;\n",
       "    }\n",
       "\n",
       "    .dataframe thead th {\n",
       "        text-align: right;\n",
       "    }\n",
       "</style>\n",
       "<table border=\"1\" class=\"dataframe\">\n",
       "  <thead>\n",
       "    <tr style=\"text-align: right;\">\n",
       "      <th></th>\n",
       "      <th>movie_title</th>\n",
       "      <th>release_date</th>\n",
       "      <th>genre</th>\n",
       "      <th>mpaa_rating</th>\n",
       "      <th>total_gross</th>\n",
       "      <th>inflation_adjusted_gross</th>\n",
       "    </tr>\n",
       "  </thead>\n",
       "  <tbody>\n",
       "    <tr>\n",
       "      <th>0</th>\n",
       "      <td>Snow White and the Seven Dwarfs</td>\n",
       "      <td>1937-12-21</td>\n",
       "      <td>Musical</td>\n",
       "      <td>G</td>\n",
       "      <td>184925485</td>\n",
       "      <td>5228953251</td>\n",
       "    </tr>\n",
       "    <tr>\n",
       "      <th>1</th>\n",
       "      <td>Pinocchio</td>\n",
       "      <td>1940-02-09</td>\n",
       "      <td>Adventure</td>\n",
       "      <td>G</td>\n",
       "      <td>84300000</td>\n",
       "      <td>2188229052</td>\n",
       "    </tr>\n",
       "    <tr>\n",
       "      <th>2</th>\n",
       "      <td>Fantasia</td>\n",
       "      <td>1940-11-13</td>\n",
       "      <td>Musical</td>\n",
       "      <td>G</td>\n",
       "      <td>83320000</td>\n",
       "      <td>2187090808</td>\n",
       "    </tr>\n",
       "    <tr>\n",
       "      <th>8</th>\n",
       "      <td>101 Dalmatians</td>\n",
       "      <td>1961-01-25</td>\n",
       "      <td>Comedy</td>\n",
       "      <td>G</td>\n",
       "      <td>153000000</td>\n",
       "      <td>1362870985</td>\n",
       "    </tr>\n",
       "    <tr>\n",
       "      <th>6</th>\n",
       "      <td>Lady and the Tramp</td>\n",
       "      <td>1955-06-22</td>\n",
       "      <td>Drama</td>\n",
       "      <td>G</td>\n",
       "      <td>93600000</td>\n",
       "      <td>1236035515</td>\n",
       "    </tr>\n",
       "    <tr>\n",
       "      <th>3</th>\n",
       "      <td>Song of the South</td>\n",
       "      <td>1946-11-12</td>\n",
       "      <td>Adventure</td>\n",
       "      <td>G</td>\n",
       "      <td>65000000</td>\n",
       "      <td>1078510579</td>\n",
       "    </tr>\n",
       "    <tr>\n",
       "      <th>564</th>\n",
       "      <td>Star Wars Ep. VII: The Force Awakens</td>\n",
       "      <td>2015-12-18</td>\n",
       "      <td>Adventure</td>\n",
       "      <td>PG-13</td>\n",
       "      <td>936662225</td>\n",
       "      <td>936662225</td>\n",
       "    </tr>\n",
       "    <tr>\n",
       "      <th>4</th>\n",
       "      <td>Cinderella</td>\n",
       "      <td>1950-02-15</td>\n",
       "      <td>Drama</td>\n",
       "      <td>G</td>\n",
       "      <td>85000000</td>\n",
       "      <td>920608730</td>\n",
       "    </tr>\n",
       "    <tr>\n",
       "      <th>13</th>\n",
       "      <td>The Jungle Book</td>\n",
       "      <td>1967-10-18</td>\n",
       "      <td>Musical</td>\n",
       "      <td>Not Rated</td>\n",
       "      <td>141843000</td>\n",
       "      <td>789612346</td>\n",
       "    </tr>\n",
       "    <tr>\n",
       "      <th>179</th>\n",
       "      <td>The Lion King</td>\n",
       "      <td>1994-06-15</td>\n",
       "      <td>Adventure</td>\n",
       "      <td>G</td>\n",
       "      <td>422780140</td>\n",
       "      <td>761640898</td>\n",
       "    </tr>\n",
       "  </tbody>\n",
       "</table>\n",
       "</div>"
      ],
      "text/plain": [
       "                              movie_title release_date      genre mpaa_rating  \\\n",
       "0         Snow White and the Seven Dwarfs   1937-12-21    Musical           G   \n",
       "1                               Pinocchio   1940-02-09  Adventure           G   \n",
       "2                                Fantasia   1940-11-13    Musical           G   \n",
       "8                          101 Dalmatians   1961-01-25     Comedy           G   \n",
       "6                      Lady and the Tramp   1955-06-22      Drama           G   \n",
       "3                       Song of the South   1946-11-12  Adventure           G   \n",
       "564  Star Wars Ep. VII: The Force Awakens   2015-12-18  Adventure       PG-13   \n",
       "4                              Cinderella   1950-02-15      Drama           G   \n",
       "13                        The Jungle Book   1967-10-18    Musical   Not Rated   \n",
       "179                         The Lion King   1994-06-15  Adventure           G   \n",
       "\n",
       "     total_gross  inflation_adjusted_gross  \n",
       "0      184925485                5228953251  \n",
       "1       84300000                2188229052  \n",
       "2       83320000                2187090808  \n",
       "8      153000000                1362870985  \n",
       "6       93600000                1236035515  \n",
       "3       65000000                1078510579  \n",
       "564    936662225                 936662225  \n",
       "4       85000000                 920608730  \n",
       "13     141843000                 789612346  \n",
       "179    422780140                 761640898  "
      ]
     },
     "execution_count": 2,
     "metadata": {},
     "output_type": "execute_result"
    }
   ],
   "source": [
    "gross.sort_values(by=\"inflation_adjusted_gross\", ascending=False).head(10)"
   ]
  },
  {
   "cell_type": "markdown",
   "metadata": {
    "dc": {
     "key": "19"
    },
    "deletable": false,
    "editable": false,
    "run_control": {
     "frozen": true
    },
    "tags": [
     "context"
    ]
   },
   "source": [
    "## 3. Movie genre trend\n",
    "<p>From the top 10 movies above, it seems that some genres are more popular than others. So, we will check which genres are growing stronger in popularity. To do this, we will group movies by genre and then by year to see the adjusted gross of each genre in each year.</p>"
   ]
  },
  {
   "cell_type": "code",
   "execution_count": 3,
   "metadata": {
    "dc": {
     "key": "19"
    },
    "tags": [
     "sample_code"
    ]
   },
   "outputs": [
    {
     "data": {
      "text/html": [
       "<div>\n",
       "<style scoped>\n",
       "    .dataframe tbody tr th:only-of-type {\n",
       "        vertical-align: middle;\n",
       "    }\n",
       "\n",
       "    .dataframe tbody tr th {\n",
       "        vertical-align: top;\n",
       "    }\n",
       "\n",
       "    .dataframe thead th {\n",
       "        text-align: right;\n",
       "    }\n",
       "</style>\n",
       "<table border=\"1\" class=\"dataframe\">\n",
       "  <thead>\n",
       "    <tr style=\"text-align: right;\">\n",
       "      <th></th>\n",
       "      <th>genre</th>\n",
       "      <th>release_year</th>\n",
       "      <th>total_gross</th>\n",
       "      <th>inflation_adjusted_gross</th>\n",
       "    </tr>\n",
       "  </thead>\n",
       "  <tbody>\n",
       "    <tr>\n",
       "      <th>0</th>\n",
       "      <td>Action</td>\n",
       "      <td>1981</td>\n",
       "      <td>0.0</td>\n",
       "      <td>0.0</td>\n",
       "    </tr>\n",
       "    <tr>\n",
       "      <th>1</th>\n",
       "      <td>Action</td>\n",
       "      <td>1982</td>\n",
       "      <td>26918576.0</td>\n",
       "      <td>77184895.0</td>\n",
       "    </tr>\n",
       "    <tr>\n",
       "      <th>2</th>\n",
       "      <td>Action</td>\n",
       "      <td>1988</td>\n",
       "      <td>17577696.0</td>\n",
       "      <td>36053517.0</td>\n",
       "    </tr>\n",
       "    <tr>\n",
       "      <th>3</th>\n",
       "      <td>Action</td>\n",
       "      <td>1990</td>\n",
       "      <td>59249588.5</td>\n",
       "      <td>118358772.0</td>\n",
       "    </tr>\n",
       "    <tr>\n",
       "      <th>4</th>\n",
       "      <td>Action</td>\n",
       "      <td>1991</td>\n",
       "      <td>28924936.5</td>\n",
       "      <td>57918572.5</td>\n",
       "    </tr>\n",
       "    <tr>\n",
       "      <th>5</th>\n",
       "      <td>Action</td>\n",
       "      <td>1992</td>\n",
       "      <td>29028000.0</td>\n",
       "      <td>58965304.0</td>\n",
       "    </tr>\n",
       "    <tr>\n",
       "      <th>6</th>\n",
       "      <td>Action</td>\n",
       "      <td>1993</td>\n",
       "      <td>21943553.5</td>\n",
       "      <td>44682157.0</td>\n",
       "    </tr>\n",
       "    <tr>\n",
       "      <th>7</th>\n",
       "      <td>Action</td>\n",
       "      <td>1994</td>\n",
       "      <td>19180582.0</td>\n",
       "      <td>39545796.0</td>\n",
       "    </tr>\n",
       "    <tr>\n",
       "      <th>8</th>\n",
       "      <td>Action</td>\n",
       "      <td>1995</td>\n",
       "      <td>63037553.5</td>\n",
       "      <td>122162426.5</td>\n",
       "    </tr>\n",
       "    <tr>\n",
       "      <th>9</th>\n",
       "      <td>Action</td>\n",
       "      <td>1996</td>\n",
       "      <td>135281096.0</td>\n",
       "      <td>257755262.5</td>\n",
       "    </tr>\n",
       "  </tbody>\n",
       "</table>\n",
       "</div>"
      ],
      "text/plain": [
       "    genre  release_year  total_gross  inflation_adjusted_gross\n",
       "0  Action          1981          0.0                       0.0\n",
       "1  Action          1982   26918576.0                77184895.0\n",
       "2  Action          1988   17577696.0                36053517.0\n",
       "3  Action          1990   59249588.5               118358772.0\n",
       "4  Action          1991   28924936.5                57918572.5\n",
       "5  Action          1992   29028000.0                58965304.0\n",
       "6  Action          1993   21943553.5                44682157.0\n",
       "7  Action          1994   19180582.0                39545796.0\n",
       "8  Action          1995   63037553.5               122162426.5\n",
       "9  Action          1996  135281096.0               257755262.5"
      ]
     },
     "execution_count": 3,
     "metadata": {},
     "output_type": "execute_result"
    }
   ],
   "source": [
    " # Extract year from release_date and store it in a new column\n",
    "gross['release_year'] = pd.DatetimeIndex(gross['release_date']).year\n",
    "\n",
    "# Compute mean of adjusted gross per genre and per year\n",
    "group = gross.groupby(['genre', 'release_year']).mean()\n",
    "\n",
    "genre_yearly = group.reset_index() \n",
    "genre_yearly.head(10)"
   ]
  },
  {
   "cell_type": "markdown",
   "metadata": {
    "dc": {
     "key": "26"
    },
    "deletable": false,
    "editable": false,
    "run_control": {
     "frozen": true
    },
    "tags": [
     "context"
    ]
   },
   "source": [
    "## 4. Visualize the genre popularity trend\n",
    "<p>We will make a plot out of these means of groups to better see how box office revenues have changed over time.</p>"
   ]
  },
  {
   "cell_type": "code",
   "execution_count": 10,
   "metadata": {
    "dc": {
     "key": "26"
    },
    "tags": [
     "sample_code"
    ]
   },
   "outputs": [
    {
     "data": {
      "image/png": "[encoded data removed]",
      "text/plain": [
       "<Figure size 1008x720 with 1 Axes>"
      ]
     },
     "metadata": {},
     "output_type": "display_data"
    }
   ],
   "source": [
    "import matplotlib.pyplot as plt\n",
    "\n",
    "import seaborn as sns\n",
    "\n",
    "fig, ax = plt.subplots(figsize=(14,10))\n",
    "plt.style.use('ggplot')\n",
    "# plot the data\n",
    "sns.lineplot(x=\"release_year\", y=\"inflation_adjusted_gross\", \n",
    "            data=genre_yearly, hue='genre')\n",
    "plt.xlabel(\"release year\")\n",
    "plt.ylabel(\"inflation_adjusted_gross\")\n",
    "plt.show()"
   ]
  },
  {
   "cell_type": "markdown",
   "metadata": {
    "dc": {
     "key": "33"
    },
    "deletable": false,
    "editable": false,
    "run_control": {
     "frozen": true
    },
    "tags": [
     "context"
    ]
   },
   "source": [
    "## 5. Data transformation\n",
    "<p>The line plot supports our belief that some genres are growing faster in popularity than others. For Disney movies, Action and Adventure genres are growing the fastest. Next, we will build a linear regression model to understand the relationship between genre and box office gross. </p>\n",
    "<p>Since linear regression requires numerical variables and the genre variable is a categorical variable, we'll use a technique called one-hot encoding to convert the categorical variables to numerical. This technique transforms each category value into a new column and assigns a 1 or 0 to the column. </p>\n",
    "<p>For this dataset, there will be 11 dummy variables, one for each genre except the action genre which we will use as a baseline. For example, if a movie is an adventure movie, like The Lion King, the adventure variable will be 1 and other dummy variables will be 0. Since the action genre is our baseline, if a movie is an action movie, such as The Avengers, all dummy variables will be 0.</p>"
   ]
  },
  {
   "cell_type": "code",
   "execution_count": 11,
   "metadata": {
    "dc": {
     "key": "33"
    },
    "tags": [
     "sample_code"
    ]
   },
   "outputs": [
    {
     "data": {
      "text/html": [
       "<div>\n",
       "<style scoped>\n",
       "    .dataframe tbody tr th:only-of-type {\n",
       "        vertical-align: middle;\n",
       "    }\n",
       "\n",
       "    .dataframe tbody tr th {\n",
       "        vertical-align: top;\n",
       "    }\n",
       "\n",
       "    .dataframe thead th {\n",
       "        text-align: right;\n",
       "    }\n",
       "</style>\n",
       "<table border=\"1\" class=\"dataframe\">\n",
       "  <thead>\n",
       "    <tr style=\"text-align: right;\">\n",
       "      <th></th>\n",
       "      <th>Adventure</th>\n",
       "      <th>Black Comedy</th>\n",
       "      <th>Comedy</th>\n",
       "      <th>Concert/Performance</th>\n",
       "      <th>Documentary</th>\n",
       "      <th>Drama</th>\n",
       "      <th>Horror</th>\n",
       "      <th>Musical</th>\n",
       "      <th>Romantic Comedy</th>\n",
       "      <th>Thriller/Suspense</th>\n",
       "      <th>Western</th>\n",
       "    </tr>\n",
       "  </thead>\n",
       "  <tbody>\n",
       "    <tr>\n",
       "      <th>0</th>\n",
       "      <td>0</td>\n",
       "      <td>0</td>\n",
       "      <td>0</td>\n",
       "      <td>0</td>\n",
       "      <td>0</td>\n",
       "      <td>0</td>\n",
       "      <td>0</td>\n",
       "      <td>1</td>\n",
       "      <td>0</td>\n",
       "      <td>0</td>\n",
       "      <td>0</td>\n",
       "    </tr>\n",
       "    <tr>\n",
       "      <th>1</th>\n",
       "      <td>1</td>\n",
       "      <td>0</td>\n",
       "      <td>0</td>\n",
       "      <td>0</td>\n",
       "      <td>0</td>\n",
       "      <td>0</td>\n",
       "      <td>0</td>\n",
       "      <td>0</td>\n",
       "      <td>0</td>\n",
       "      <td>0</td>\n",
       "      <td>0</td>\n",
       "    </tr>\n",
       "    <tr>\n",
       "      <th>2</th>\n",
       "      <td>0</td>\n",
       "      <td>0</td>\n",
       "      <td>0</td>\n",
       "      <td>0</td>\n",
       "      <td>0</td>\n",
       "      <td>0</td>\n",
       "      <td>0</td>\n",
       "      <td>1</td>\n",
       "      <td>0</td>\n",
       "      <td>0</td>\n",
       "      <td>0</td>\n",
       "    </tr>\n",
       "    <tr>\n",
       "      <th>3</th>\n",
       "      <td>1</td>\n",
       "      <td>0</td>\n",
       "      <td>0</td>\n",
       "      <td>0</td>\n",
       "      <td>0</td>\n",
       "      <td>0</td>\n",
       "      <td>0</td>\n",
       "      <td>0</td>\n",
       "      <td>0</td>\n",
       "      <td>0</td>\n",
       "      <td>0</td>\n",
       "    </tr>\n",
       "    <tr>\n",
       "      <th>4</th>\n",
       "      <td>0</td>\n",
       "      <td>0</td>\n",
       "      <td>0</td>\n",
       "      <td>0</td>\n",
       "      <td>0</td>\n",
       "      <td>1</td>\n",
       "      <td>0</td>\n",
       "      <td>0</td>\n",
       "      <td>0</td>\n",
       "      <td>0</td>\n",
       "      <td>0</td>\n",
       "    </tr>\n",
       "  </tbody>\n",
       "</table>\n",
       "</div>"
      ],
      "text/plain": [
       "   Adventure  Black Comedy  Comedy  Concert/Performance  Documentary  Drama  \\\n",
       "0          0             0       0                    0            0      0   \n",
       "1          1             0       0                    0            0      0   \n",
       "2          0             0       0                    0            0      0   \n",
       "3          1             0       0                    0            0      0   \n",
       "4          0             0       0                    0            0      1   \n",
       "\n",
       "   Horror  Musical  Romantic Comedy  Thriller/Suspense  Western  \n",
       "0       0        1                0                  0        0  \n",
       "1       0        0                0                  0        0  \n",
       "2       0        1                0                  0        0  \n",
       "3       0        0                0                  0        0  \n",
       "4       0        0                0                  0        0  "
      ]
     },
     "execution_count": 11,
     "metadata": {},
     "output_type": "execute_result"
    }
   ],
   "source": [
    "# Convert genre variable to dummy variables \n",
    "genre_dummies =  pd.get_dummies(gross['genre'], drop_first=True)\n",
    "\n",
    "# Inspect genre_dummies\n",
    "genre_dummies.head()"
   ]
  },
  {
   "cell_type": "markdown",
   "metadata": {
    "dc": {
     "key": "40"
    },
    "deletable": false,
    "editable": false,
    "run_control": {
     "frozen": true
    },
    "tags": [
     "context"
    ]
   },
   "source": [
    "## 6. The genre effect\n",
    "<p>Now that we have dummy variables, we can build a linear regression model to predict the adjusted gross using these dummy variables.</p>\n",
    "<p>From the regression model, we can check the effect of each genre by looking at its coefficient given in units of box office gross dollars. We will focus on the impact of action and adventure genres here. (Note that the intercept and the first coefficient values represent the effect of action and adventure genres respectively). We expect that movies like the Lion King or Star Wars would perform better for box office.</p>"
   ]
  },
  {
   "cell_type": "code",
   "execution_count": 12,
   "metadata": {
    "dc": {
     "key": "40"
    },
    "tags": [
     "sample_code"
    ]
   },
   "outputs": [
    {
     "name": "stdout",
     "output_type": "stream",
     "text": [
      "(102921757.36842084, 87475654.70909858)\n"
     ]
    }
   ],
   "source": [
    "from sklearn.linear_model import LinearRegression\n",
    "\n",
    "regr = LinearRegression()\n",
    "\n",
    "X = genre_dummies\n",
    "y = gross['inflation_adjusted_gross']\n",
    "regr.fit(X, y)\n",
    "# Get estimated intercept and coefficient values \n",
    "action =  regr.intercept_\n",
    "adventure = regr.coef_[[0]][0]\n",
    "\n",
    "# Inspect the estimated intercept and coefficient values \n",
    "print((action, adventure))"
   ]
  },
  {
   "cell_type": "markdown",
   "metadata": {
    "dc": {
     "key": "47"
    },
    "deletable": false,
    "editable": false,
    "run_control": {
     "frozen": true
    },
    "tags": [
     "context"
    ]
   },
   "source": [
    "## 7. Confidence intervals for regression parameters  (i)\n",
    "<p>Next, we will compute 95% confidence intervals for the intercept and coefficients. The 95% confidence intervals for the intercept  <b><i>a</i></b> and coefficient <b><i>b<sub>i</sub></i></b> means that the intervals have a probability of 95% to contain the true value <b><i>a</i></b> and coefficient <b><i>b<sub>i</sub></i></b> respectively. If there is a significant relationship between a given genre and the adjusted gross, the confidence interval of its coefficient should exclude 0.      </p>\n",
    "<p>We will calculate the confidence intervals using the pairs bootstrap method. </p>"
   ]
  },
  {
   "cell_type": "code",
   "execution_count": 16,
   "metadata": {
    "dc": {
     "key": "47"
    },
    "tags": [
     "sample_code"
    ]
   },
   "outputs": [],
   "source": [
    "# Import a module\n",
    "import numpy as np\n",
    "\n",
    "# Create an array of indices to sample from \n",
    "inds = np.arange(len(gross['genre']))\n",
    "\n",
    "# Initialize 500 replicate arrays\n",
    "size = 500\n",
    "bs_action_reps =  np.empty(size)\n",
    "bs_adventure_reps =  np.empty(size)"
   ]
  },
  {
   "cell_type": "markdown",
   "metadata": {
    "dc": {
     "key": "54"
    },
    "deletable": false,
    "editable": false,
    "run_control": {
     "frozen": true
    },
    "tags": [
     "context"
    ]
   },
   "source": [
    "## 8. Confidence intervals for regression parameters  (ii)\n",
    "<p>After the initialization, we will perform pair bootstrap estimates for the regression parameters. Note that we will draw a sample from a set of (genre, adjusted gross) data where the genre is the original genre variable. We will perform one-hot encoding after that. </p>"
   ]
  },
  {
   "cell_type": "code",
   "execution_count": 17,
   "metadata": {
    "dc": {
     "key": "54"
    },
    "tags": [
     "sample_code"
    ]
   },
   "outputs": [],
   "source": [
    "# Generate replicates  \n",
    "for i in range(size):\n",
    "    \n",
    "    # Resample the indices \n",
    "    bs_inds = np.random.choice(inds, size=len(inds))\n",
    "        \n",
    "    # Get the sampled genre and sampled adjusted gross\n",
    "    bs_genre = gross['genre'][bs_inds]\n",
    "    bs_gross = gross['inflation_adjusted_gross'][bs_inds]\n",
    "    \n",
    "    # Convert sampled genre to dummy variables\n",
    "    bs_dummies = pd.get_dummies(bs_genre, drop_first=True)  \n",
    "    \n",
    "    # Build and fit a regression model \n",
    "    regr = LinearRegression().fit(bs_dummies, bs_gross)\n",
    "    \n",
    "    # Compute replicates of estimated intercept and coefficient\n",
    "    bs_action_reps[i] = regr.intercept_\n",
    "    bs_adventure_reps[i] = regr.coef_[[0]][0]\n",
    "        "
   ]
  },
  {
   "cell_type": "markdown",
   "metadata": {
    "dc": {
     "key": "61"
    },
    "deletable": false,
    "editable": false,
    "run_control": {
     "frozen": true
    },
    "tags": [
     "context"
    ]
   },
   "source": [
    "## 9. Confidence intervals for regression parameters (iii)\n",
    "<p>Finally, we compute 95% confidence intervals for the intercept and coefficient and examine if they exclude 0. If one of them (or both) does, then it is unlikely that the value is 0 and we can conclude that there is a significant relationship between that genre and the adjusted gross. </p>"
   ]
  },
  {
   "cell_type": "code",
   "execution_count": 18,
   "metadata": {
    "dc": {
     "key": "61"
    },
    "tags": [
     "sample_code"
    ]
   },
   "outputs": [
    {
     "name": "stdout",
     "output_type": "stream",
     "text": [
      "[6.99172928e+07 1.33216034e+08]\n",
      "[3.78336174e+07 1.47030867e+08]\n"
     ]
    }
   ],
   "source": [
    "# Compute 95% confidence intervals for intercept and coefficient values\n",
    "confidence_interval_action = np.percentile(bs_action_reps, [2.5, 97.5])\n",
    "confidence_interval_adventure = np.percentile(bs_adventure_reps, [2.5, 97.5])\n",
    "\n",
    "# Inspect the confidence intervals\n",
    "print(confidence_interval_action)\n",
    "print(confidence_interval_adventure)"
   ]
  },
  {
   "cell_type": "markdown",
   "metadata": {
    "dc": {
     "key": "68"
    },
    "deletable": false,
    "editable": false,
    "run_control": {
     "frozen": true
    },
    "tags": [
     "context"
    ]
   },
   "source": [
    "## 10. Should Disney make more action and adventure movies?\n",
    "<p>The confidence intervals from the bootstrap method for the intercept and coefficient do not contain the value zero, as we have already seen that lower and upper bounds of both confidence intervals are positive. These tell us that it is likely that the adjusted gross is significantly correlated with the action and adventure genres. </p>\n",
    "<p>From the results of the bootstrap analysis and the trend plot we have done earlier, we could say that Disney movies with plots that fit into the action and adventure genre, according to our data, tend to do better in terms of adjusted gross than other genres. So we could expect more Marvel, Star Wars, and live-action movies in the upcoming years!</p>"
   ]
  },
  {
   "cell_type": "code",
   "execution_count": null,
   "metadata": {
    "dc": {
     "key": "68"
    },
    "tags": [
     "sample_code"
    ]
   },
   "outputs": [],
   "source": [
    "# should Disney studios make more action and adventure movies? \n",
    "more_action_adventure_movies = True"
   ]
  }
 ],
 "metadata": {
  "kernelspec": {
   "display_name": "Python 3",
   "language": "python",
   "name": "python3"
  },
  "language_info": {
   "codemirror_mode": {
    "name": "ipython",
    "version": 3
   },
   "file_extension": ".py",
   "mimetype": "text/x-python",
   "name": "python",
   "nbconvert_exporter": "python",
   "pygments_lexer": "ipython3",
   "version": "3.8.8"
  }
 },
 "nbformat": 4,
 "nbformat_minor": 2
}
